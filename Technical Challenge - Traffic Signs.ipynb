{
 "cells": [
  {
   "cell_type": "markdown",
   "metadata": {},
   "source": [
    "# Technical Challenge - Traffic Signs Lucas Arnaldo Alves\n",
    "\n",
    "Intuito desse notebook é ilustrar o pipeline de machine learning utilizando o conjunto de dados trafig sign.\n",
    "\n",
    "O framework escolhido para modelagem da rede neural foi o TensorFlow.\n",
    "\n",
    "Etapas:\n",
    "- Data exploratory\n",
    "- Data validation\n",
    "- Data featuring (selection/construction)\n",
    "- Model Selection\n",
    "- Parameter Optimization\n",
    "- Model validation\n",
    "- Model Fine-tuning\n",
    "- Deploy (only theoretical)\n",
    "- Feedback of new validated data (only theoretical)"
   ]
  },
  {
   "cell_type": "markdown",
   "metadata": {},
   "source": [
    "## Data exploratory"
   ]
  },
  {
   "cell_type": "code",
   "execution_count": 1,
   "metadata": {},
   "outputs": [],
   "source": [
    "import pandas as pd\n",
    "import numpy as np\n",
    "from PIL import Image\n",
    "import tensorflow as tf\n",
    "from tensorflow import keras\n",
    "from tensorflow.keras import layers\n",
    "from tensorflow.keras.models import Sequential\n",
    "from tensorflow.keras.utils import to_categorical\n",
    "import matplotlib.pyplot as plt\n"
   ]
  },
  {
   "cell_type": "code",
   "execution_count": 2,
   "metadata": {},
   "outputs": [
    {
     "data": {
      "text/html": [
       "<div>\n",
       "<style scoped>\n",
       "    .dataframe tbody tr th:only-of-type {\n",
       "        vertical-align: middle;\n",
       "    }\n",
       "\n",
       "    .dataframe tbody tr th {\n",
       "        vertical-align: top;\n",
       "    }\n",
       "\n",
       "    .dataframe thead th {\n",
       "        text-align: right;\n",
       "    }\n",
       "</style>\n",
       "<table border=\"1\" class=\"dataframe\">\n",
       "  <thead>\n",
       "    <tr style=\"text-align: right;\">\n",
       "      <th></th>\n",
       "      <th>Width</th>\n",
       "      <th>Height</th>\n",
       "      <th>Roi.X1</th>\n",
       "      <th>Roi.Y1</th>\n",
       "      <th>Roi.X2</th>\n",
       "      <th>Roi.Y2</th>\n",
       "      <th>ClassId</th>\n",
       "      <th>Path</th>\n",
       "    </tr>\n",
       "  </thead>\n",
       "  <tbody>\n",
       "    <tr>\n",
       "      <td>0</td>\n",
       "      <td>27</td>\n",
       "      <td>26</td>\n",
       "      <td>5</td>\n",
       "      <td>5</td>\n",
       "      <td>22</td>\n",
       "      <td>20</td>\n",
       "      <td>20</td>\n",
       "      <td>Train/20/00020_00000_00000.png</td>\n",
       "    </tr>\n",
       "    <tr>\n",
       "      <td>1</td>\n",
       "      <td>28</td>\n",
       "      <td>27</td>\n",
       "      <td>5</td>\n",
       "      <td>6</td>\n",
       "      <td>23</td>\n",
       "      <td>22</td>\n",
       "      <td>20</td>\n",
       "      <td>Train/20/00020_00000_00001.png</td>\n",
       "    </tr>\n",
       "    <tr>\n",
       "      <td>2</td>\n",
       "      <td>29</td>\n",
       "      <td>26</td>\n",
       "      <td>6</td>\n",
       "      <td>5</td>\n",
       "      <td>24</td>\n",
       "      <td>21</td>\n",
       "      <td>20</td>\n",
       "      <td>Train/20/00020_00000_00002.png</td>\n",
       "    </tr>\n",
       "    <tr>\n",
       "      <td>3</td>\n",
       "      <td>28</td>\n",
       "      <td>27</td>\n",
       "      <td>5</td>\n",
       "      <td>6</td>\n",
       "      <td>23</td>\n",
       "      <td>22</td>\n",
       "      <td>20</td>\n",
       "      <td>Train/20/00020_00000_00003.png</td>\n",
       "    </tr>\n",
       "    <tr>\n",
       "      <td>4</td>\n",
       "      <td>28</td>\n",
       "      <td>26</td>\n",
       "      <td>5</td>\n",
       "      <td>5</td>\n",
       "      <td>23</td>\n",
       "      <td>21</td>\n",
       "      <td>20</td>\n",
       "      <td>Train/20/00020_00000_00004.png</td>\n",
       "    </tr>\n",
       "  </tbody>\n",
       "</table>\n",
       "</div>"
      ],
      "text/plain": [
       "   Width  Height  Roi.X1  Roi.Y1  Roi.X2  Roi.Y2  ClassId  \\\n",
       "0     27      26       5       5      22      20       20   \n",
       "1     28      27       5       6      23      22       20   \n",
       "2     29      26       6       5      24      21       20   \n",
       "3     28      27       5       6      23      22       20   \n",
       "4     28      26       5       5      23      21       20   \n",
       "\n",
       "                             Path  \n",
       "0  Train/20/00020_00000_00000.png  \n",
       "1  Train/20/00020_00000_00001.png  \n",
       "2  Train/20/00020_00000_00002.png  \n",
       "3  Train/20/00020_00000_00003.png  \n",
       "4  Train/20/00020_00000_00004.png  "
      ]
     },
     "execution_count": 2,
     "metadata": {},
     "output_type": "execute_result"
    }
   ],
   "source": [
    "labels_csv_path = 'Labels.csv'\n",
    "train_csv_path = 'Train.csv'\n",
    "test_csv_path = 'Test.csv'\n",
    "df_label = pd.read_csv(labels_csv_path)\n",
    "df_train = pd.read_csv(train_csv_path)\n",
    "df_train.head()"
   ]
  },
  {
   "cell_type": "code",
   "execution_count": 3,
   "metadata": {},
   "outputs": [
    {
     "data": {
      "text/html": [
       "<div>\n",
       "<style scoped>\n",
       "    .dataframe tbody tr th:only-of-type {\n",
       "        vertical-align: middle;\n",
       "    }\n",
       "\n",
       "    .dataframe tbody tr th {\n",
       "        vertical-align: top;\n",
       "    }\n",
       "\n",
       "    .dataframe thead th {\n",
       "        text-align: right;\n",
       "    }\n",
       "</style>\n",
       "<table border=\"1\" class=\"dataframe\">\n",
       "  <thead>\n",
       "    <tr style=\"text-align: right;\">\n",
       "      <th></th>\n",
       "      <th>Width</th>\n",
       "      <th>Height</th>\n",
       "      <th>Roi.X1</th>\n",
       "      <th>Roi.Y1</th>\n",
       "      <th>Roi.X2</th>\n",
       "      <th>Roi.Y2</th>\n",
       "      <th>ClassId</th>\n",
       "    </tr>\n",
       "  </thead>\n",
       "  <tbody>\n",
       "    <tr>\n",
       "      <td>count</td>\n",
       "      <td>39209.000000</td>\n",
       "      <td>39209.000000</td>\n",
       "      <td>39209.000000</td>\n",
       "      <td>39209.000000</td>\n",
       "      <td>39209.000000</td>\n",
       "      <td>39209.000000</td>\n",
       "      <td>39209.000000</td>\n",
       "    </tr>\n",
       "    <tr>\n",
       "      <td>mean</td>\n",
       "      <td>50.835880</td>\n",
       "      <td>50.328930</td>\n",
       "      <td>5.999515</td>\n",
       "      <td>5.962381</td>\n",
       "      <td>45.197302</td>\n",
       "      <td>44.728379</td>\n",
       "      <td>15.788390</td>\n",
       "    </tr>\n",
       "    <tr>\n",
       "      <td>std</td>\n",
       "      <td>24.306933</td>\n",
       "      <td>23.115423</td>\n",
       "      <td>1.475493</td>\n",
       "      <td>1.385440</td>\n",
       "      <td>23.060157</td>\n",
       "      <td>21.971145</td>\n",
       "      <td>12.013238</td>\n",
       "    </tr>\n",
       "    <tr>\n",
       "      <td>min</td>\n",
       "      <td>25.000000</td>\n",
       "      <td>25.000000</td>\n",
       "      <td>0.000000</td>\n",
       "      <td>5.000000</td>\n",
       "      <td>20.000000</td>\n",
       "      <td>20.000000</td>\n",
       "      <td>0.000000</td>\n",
       "    </tr>\n",
       "    <tr>\n",
       "      <td>25%</td>\n",
       "      <td>35.000000</td>\n",
       "      <td>35.000000</td>\n",
       "      <td>5.000000</td>\n",
       "      <td>5.000000</td>\n",
       "      <td>29.000000</td>\n",
       "      <td>30.000000</td>\n",
       "      <td>5.000000</td>\n",
       "    </tr>\n",
       "    <tr>\n",
       "      <td>50%</td>\n",
       "      <td>43.000000</td>\n",
       "      <td>43.000000</td>\n",
       "      <td>6.000000</td>\n",
       "      <td>6.000000</td>\n",
       "      <td>38.000000</td>\n",
       "      <td>38.000000</td>\n",
       "      <td>12.000000</td>\n",
       "    </tr>\n",
       "    <tr>\n",
       "      <td>75%</td>\n",
       "      <td>58.000000</td>\n",
       "      <td>58.000000</td>\n",
       "      <td>6.000000</td>\n",
       "      <td>6.000000</td>\n",
       "      <td>53.000000</td>\n",
       "      <td>52.000000</td>\n",
       "      <td>25.000000</td>\n",
       "    </tr>\n",
       "    <tr>\n",
       "      <td>max</td>\n",
       "      <td>243.000000</td>\n",
       "      <td>225.000000</td>\n",
       "      <td>20.000000</td>\n",
       "      <td>20.000000</td>\n",
       "      <td>223.000000</td>\n",
       "      <td>205.000000</td>\n",
       "      <td>42.000000</td>\n",
       "    </tr>\n",
       "  </tbody>\n",
       "</table>\n",
       "</div>"
      ],
      "text/plain": [
       "              Width        Height        Roi.X1        Roi.Y1        Roi.X2  \\\n",
       "count  39209.000000  39209.000000  39209.000000  39209.000000  39209.000000   \n",
       "mean      50.835880     50.328930      5.999515      5.962381     45.197302   \n",
       "std       24.306933     23.115423      1.475493      1.385440     23.060157   \n",
       "min       25.000000     25.000000      0.000000      5.000000     20.000000   \n",
       "25%       35.000000     35.000000      5.000000      5.000000     29.000000   \n",
       "50%       43.000000     43.000000      6.000000      6.000000     38.000000   \n",
       "75%       58.000000     58.000000      6.000000      6.000000     53.000000   \n",
       "max      243.000000    225.000000     20.000000     20.000000    223.000000   \n",
       "\n",
       "             Roi.Y2       ClassId  \n",
       "count  39209.000000  39209.000000  \n",
       "mean      44.728379     15.788390  \n",
       "std       21.971145     12.013238  \n",
       "min       20.000000      0.000000  \n",
       "25%       30.000000      5.000000  \n",
       "50%       38.000000     12.000000  \n",
       "75%       52.000000     25.000000  \n",
       "max      205.000000     42.000000  "
      ]
     },
     "execution_count": 3,
     "metadata": {},
     "output_type": "execute_result"
    }
   ],
   "source": [
    "df_train.describe()"
   ]
  },
  {
   "cell_type": "code",
   "execution_count": 4,
   "metadata": {},
   "outputs": [
    {
     "data": {
      "text/plain": [
       "<matplotlib.axes._subplots.AxesSubplot at 0x2bc71b99470>"
      ]
     },
     "execution_count": 4,
     "metadata": {},
     "output_type": "execute_result"
    },
    {
     "data": {
      "image/png": "[encoded data removed]",
      "text/plain": [
       "<Figure size 432x288 with 1 Axes>"
      ]
     },
     "metadata": {
      "needs_background": "light"
     },
     "output_type": "display_data"
    }
   ],
   "source": [
    "df_train.groupby('ClassId')['Path'].count().plot.bar(x='ClassId', y='Path', rot=0)"
   ]
  },
  {
   "cell_type": "markdown",
   "metadata": {},
   "source": [
    "### Consideração em relação análise exploratória\n",
    "Podemos observar que o tamanho das imagems não estão uniformizados.\n",
    "Portando a escolha mais simples adotada foi realizar um subamostragem e utilizar todas em 25x25 em RGB.\n",
    "\n",
    "Um problema associado ao conjuntos de dados encontrado foi o desbalanceamento em relação ao numero de imagem associado a cada classe. \n",
    "Como possivel solução podemos ponderar o treinamento/ajuste do modelo de maneira propocional ao numero de imagens associado a cada classe. Outra solução seria utilizar uma tecnica de aumento de dados para aumentar a diversidade e a representatividade das classes menos representadas."
   ]
  },
  {
   "cell_type": "markdown",
   "metadata": {},
   "source": [
    "## Data validation"
   ]
  },
  {
   "cell_type": "code",
   "execution_count": 5,
   "metadata": {
    "scrolled": false
   },
   "outputs": [
    {
     "data": {
      "image/png": "[encoded data removed]",
      "text/plain": [
       "<PIL.PngImagePlugin.PngImageFile image mode=RGB size=68x69 at 0x2BC71CC46D8>"
      ]
     },
     "execution_count": 5,
     "metadata": {},
     "output_type": "execute_result"
    }
   ],
   "source": [
    "Image.open(df_train.iloc[-1,-1])"
   ]
  },
  {
   "cell_type": "code",
   "execution_count": 6,
   "metadata": {},
   "outputs": [
    {
     "name": "stdout",
     "output_type": "stream",
     "text": [
      "Found 39209 files belonging to 43 classes.\n",
      "Using 35289 files for training.\n",
      "Found 39209 files belonging to 43 classes.\n",
      "Using 3920 files for validation.\n"
     ]
    }
   ],
   "source": [
    "img_height = 25\n",
    "img_width = 25\n",
    "batch_size = 32\n",
    "data_dir = 'Train'\n",
    "\n",
    "train_ds = tf.keras.preprocessing.image_dataset_from_directory(\n",
    "    data_dir,\n",
    "    validation_split=0.1,\n",
    "    label_mode=\"categorical\",\n",
    "    subset=\"training\",\n",
    "    seed=123,\n",
    "    image_size=(img_height, img_width),\n",
    "    batch_size=batch_size)\n",
    "\n",
    "val_ds = tf.keras.preprocessing.image_dataset_from_directory(\n",
    "    data_dir,\n",
    "    validation_split=0.1,\n",
    "    label_mode=\"categorical\",\n",
    "    subset=\"validation\",\n",
    "    seed=123,\n",
    "    image_size=(img_height, img_width),\n",
    "    batch_size=batch_size)"
   ]
  },
  {
   "cell_type": "code",
   "execution_count": 10,
   "metadata": {},
   "outputs": [
    {
     "name": "stdout",
     "output_type": "stream",
     "text": [
      "(32, 25, 25, 3)\n",
      "(32, 43)\n"
     ]
    },
    {
     "data": {
      "image/png": "[encoded data removed]",
      "text/plain": [
       "<Figure size 720x720 with 9 Axes>"
      ]
     },
     "metadata": {
      "needs_background": "light"
     },
     "output_type": "display_data"
    }
   ],
   "source": [
    "plt.figure(figsize=(10, 10))\n",
    "for images, labels in train_ds.take(1):\n",
    "    print(images.shape)\n",
    "    print(labels.shape)\n",
    "    for i in range(9):\n",
    "        ax = plt.subplot(3, 3, i + 1)\n",
    "        plt.imshow(images[i].numpy().astype(\"uint8\"))\n",
    "        plt.title(df_label.iloc[np.argmax(labels[i].numpy())].SignName)\n",
    "        plt.axis(\"off\")"
   ]
  },
  {
   "cell_type": "markdown",
   "metadata": {},
   "source": [
    "### Consideração em relação validação dos dados\n",
    "Como podemos notar que alem de uma baixa resolução existe diferentes condições de iluminação, borradas, com obstrução parcial em certas imagens. Uma sugestão para mitigar esses problemas seria a normalização da intensidade entre as imagens em uma etapa de pre-processamento."
   ]
  },
  {
   "cell_type": "markdown",
   "metadata": {},
   "source": [
    "## Data featuring\n",
    "\n",
    "Iremos tratar esse problema utilizando os 3 canais disponiveis nas imagems RGB analisando cada pixel."
   ]
  },
  {
   "cell_type": "code",
   "execution_count": 11,
   "metadata": {},
   "outputs": [],
   "source": [
    "train_ds = train_ds.cache().shuffle(500).prefetch(buffer_size=-1)\n",
    "val_ds = val_ds.cache().prefetch(buffer_size=-1)"
   ]
  },
  {
   "cell_type": "markdown",
   "metadata": {},
   "source": [
    "### Model Selection\n",
    "\n",
    "Para abordar o problema de reconhecimento das placas a abordagem selecionada foi utilizar uma rede neural convolucional. Utilizando o framework Tensorflow para simplificar as etapas de descrição da arquitetura.\n",
    "\n",
    "### Parameter Optimization\n",
    "\n",
    "A otimização sera feita analizando a função de custo(perda de entropia cruzada), utilizando como metrica a acurácia.\n"
   ]
  },
  {
   "cell_type": "code",
   "execution_count": 13,
   "metadata": {},
   "outputs": [
    {
     "name": "stdout",
     "output_type": "stream",
     "text": [
      "Model: \"sequential_1\"\n",
      "_________________________________________________________________\n",
      "Layer (type)                 Output Shape              Param #   \n",
      "=================================================================\n",
      "rescaling_1 (Rescaling)      (None, 25, 25, 3)         0         \n",
      "_________________________________________________________________\n",
      "conv2d_3 (Conv2D)            (None, 25, 25, 16)        448       \n",
      "_________________________________________________________________\n",
      "max_pooling2d_3 (MaxPooling2 (None, 12, 12, 16)        0         \n",
      "_________________________________________________________________\n",
      "conv2d_4 (Conv2D)            (None, 12, 12, 32)        4640      \n",
      "_________________________________________________________________\n",
      "max_pooling2d_4 (MaxPooling2 (None, 6, 6, 32)          0         \n",
      "_________________________________________________________________\n",
      "conv2d_5 (Conv2D)            (None, 6, 6, 64)          18496     \n",
      "_________________________________________________________________\n",
      "max_pooling2d_5 (MaxPooling2 (None, 3, 3, 64)          0         \n",
      "_________________________________________________________________\n",
      "flatten_1 (Flatten)          (None, 576)               0         \n",
      "_________________________________________________________________\n",
      "dense_3 (Dense)              (None, 128)               73856     \n",
      "_________________________________________________________________\n",
      "dense_4 (Dense)              (None, 64)                8256      \n",
      "_________________________________________________________________\n",
      "dense_5 (Dense)              (None, 43)                2795      \n",
      "=================================================================\n",
      "Total params: 108,491\n",
      "Trainable params: 108,491\n",
      "Non-trainable params: 0\n",
      "_________________________________________________________________\n"
     ]
    }
   ],
   "source": [
    "num_classes = 43\n",
    "\n",
    "model = Sequential([\n",
    "    layers.experimental.preprocessing.Rescaling(1./255, input_shape=(img_height, img_width, 3)),\n",
    "    layers.Conv2D(16, 3, padding='same', activation='relu'),\n",
    "    layers.MaxPooling2D(),\n",
    "    layers.Conv2D(32, 3, padding='same', activation='relu'),\n",
    "    layers.MaxPooling2D(),\n",
    "    layers.Conv2D(64, 3, padding='same', activation='relu'),\n",
    "    layers.MaxPooling2D(),\n",
    "    layers.Flatten(),\n",
    "    layers.Dense(128, activation='relu'),\n",
    "    layers.Dense(64, activation='relu'),\n",
    "    layers.Dense(num_classes, activation = 'softmax')\n",
    "])\n",
    "model.compile(optimizer='adam',\n",
    "              loss=tf.keras.losses.CategoricalCrossentropy(from_logits=True),\n",
    "              metrics=['accuracy'])\n",
    "model.summary()"
   ]
  },
  {
   "cell_type": "code",
   "execution_count": 16,
   "metadata": {},
   "outputs": [
    {
     "name": "stdout",
     "output_type": "stream",
     "text": [
      "Epoch 1/50\n",
      "1103/1103 [==============================] - 4s 3ms/step - loss: 3.2136 - accuracy: 0.5866 - val_loss: 3.2153 - val_accuracy: 0.5837\n",
      "Epoch 2/50\n",
      "1103/1103 [==============================] - 4s 3ms/step - loss: 3.1850 - accuracy: 0.6154 - val_loss: 3.1822 - val_accuracy: 0.6176\n",
      "Epoch 3/50\n",
      "1103/1103 [==============================] - 4s 3ms/step - loss: 3.1769 - accuracy: 0.6237 - val_loss: 3.2123 - val_accuracy: 0.5878\n",
      "Epoch 4/50\n",
      "1103/1103 [==============================] - 4s 4ms/step - loss: 3.1805 - accuracy: 0.6197 - val_loss: 3.1860 - val_accuracy: 0.6140\n",
      "Epoch 5/50\n",
      "1103/1103 [==============================] - 4s 3ms/step - loss: 3.1622 - accuracy: 0.6382 - val_loss: 3.1543 - val_accuracy: 0.6452\n",
      "Epoch 6/50\n",
      "1103/1103 [==============================] - 4s 3ms/step - loss: 3.1443 - accuracy: 0.6562 - val_loss: 3.1530 - val_accuracy: 0.6469\n",
      "Epoch 7/50\n",
      "1103/1103 [==============================] - 4s 3ms/step - loss: 3.1476 - accuracy: 0.6528 - val_loss: 3.1564 - val_accuracy: 0.6436\n",
      "Epoch 8/50\n",
      "1103/1103 [==============================] - 4s 3ms/step - loss: 3.1437 - accuracy: 0.6568 - val_loss: 3.1506 - val_accuracy: 0.6497\n",
      "Epoch 9/50\n",
      "1103/1103 [==============================] - 4s 3ms/step - loss: 3.1418 - accuracy: 0.6586 - val_loss: 3.1463 - val_accuracy: 0.6543\n",
      "Epoch 10/50\n",
      "1103/1103 [==============================] - 4s 3ms/step - loss: 3.1429 - accuracy: 0.6574 - val_loss: 3.1468 - val_accuracy: 0.6536\n",
      "Epoch 11/50\n",
      "1103/1103 [==============================] - 4s 3ms/step - loss: 3.1420 - accuracy: 0.6583 - val_loss: 3.1505 - val_accuracy: 0.6497\n",
      "Epoch 12/50\n",
      "1103/1103 [==============================] - 4s 3ms/step - loss: 3.1394 - accuracy: 0.6609 - val_loss: 3.1456 - val_accuracy: 0.6548\n",
      "Epoch 13/50\n",
      "1103/1103 [==============================] - 4s 3ms/step - loss: 3.1427 - accuracy: 0.6575 - val_loss: 3.1700 - val_accuracy: 0.6306\n",
      "Epoch 14/50\n",
      "1103/1103 [==============================] - 4s 3ms/step - loss: 3.1400 - accuracy: 0.6603 - val_loss: 3.1634 - val_accuracy: 0.6362\n",
      "Epoch 15/50\n",
      "1103/1103 [==============================] - 4s 3ms/step - loss: 3.1443 - accuracy: 0.6561 - val_loss: 3.1540 - val_accuracy: 0.6469\n",
      "Epoch 16/50\n",
      "1103/1103 [==============================] - 4s 3ms/step - loss: 3.1414 - accuracy: 0.6587 - val_loss: 3.1414 - val_accuracy: 0.6592\n",
      "Epoch 17/50\n",
      "1103/1103 [==============================] - 4s 3ms/step - loss: 3.1403 - accuracy: 0.6602 - val_loss: 3.1484 - val_accuracy: 0.6518\n",
      "Epoch 18/50\n",
      "1103/1103 [==============================] - 4s 4ms/step - loss: 3.1395 - accuracy: 0.6608 - val_loss: 3.1519 - val_accuracy: 0.6482\n",
      "Epoch 19/50\n",
      "1103/1103 [==============================] - 4s 4ms/step - loss: 3.1406 - accuracy: 0.6598 - val_loss: 3.1586 - val_accuracy: 0.6411\n",
      "Epoch 20/50\n",
      "1103/1103 [==============================] - 4s 3ms/step - loss: 3.1443 - accuracy: 0.6560 - val_loss: 3.1517 - val_accuracy: 0.6487\n",
      "Epoch 21/50\n",
      "1103/1103 [==============================] - 4s 4ms/step - loss: 3.1398 - accuracy: 0.6606 - val_loss: 3.1484 - val_accuracy: 0.6520\n",
      "Epoch 22/50\n",
      "1103/1103 [==============================] - 4s 4ms/step - loss: 3.1413 - accuracy: 0.6591 - val_loss: 3.1426 - val_accuracy: 0.6577\n",
      "Epoch 23/50\n",
      "1103/1103 [==============================] - 4s 3ms/step - loss: 3.1406 - accuracy: 0.6598 - val_loss: 3.1647 - val_accuracy: 0.6357\n",
      "Epoch 24/50\n",
      "1103/1103 [==============================] - 4s 3ms/step - loss: 3.1443 - accuracy: 0.6559 - val_loss: 3.1486 - val_accuracy: 0.6515\n",
      "Epoch 25/50\n",
      "1103/1103 [==============================] - 4s 3ms/step - loss: 3.1437 - accuracy: 0.6565 - val_loss: 3.1710 - val_accuracy: 0.6293\n",
      "Epoch 26/50\n",
      "1103/1103 [==============================] - 4s 3ms/step - loss: 3.1422 - accuracy: 0.6581 - val_loss: 3.1488 - val_accuracy: 0.6515\n",
      "Epoch 27/50\n",
      "1103/1103 [==============================] - 4s 4ms/step - loss: 3.1435 - accuracy: 0.6568 - val_loss: 3.1537 - val_accuracy: 0.6469\n",
      "Epoch 28/50\n",
      "1103/1103 [==============================] - 4s 3ms/step - loss: 3.1427 - accuracy: 0.6576 - val_loss: 3.1549 - val_accuracy: 0.6454\n",
      "Epoch 29/50\n",
      "1103/1103 [==============================] - 4s 3ms/step - loss: 3.1413 - accuracy: 0.6590 - val_loss: 3.1455 - val_accuracy: 0.6546\n",
      "Epoch 30/50\n",
      "1103/1103 [==============================] - 4s 3ms/step - loss: 3.1390 - accuracy: 0.6613 - val_loss: 3.1484 - val_accuracy: 0.6520\n",
      "Epoch 31/50\n",
      "1103/1103 [==============================] - 4s 3ms/step - loss: 3.1438 - accuracy: 0.6565 - val_loss: 3.1466 - val_accuracy: 0.6541\n",
      "Epoch 32/50\n",
      "1103/1103 [==============================] - 4s 3ms/step - loss: 3.1399 - accuracy: 0.6604 - val_loss: 3.1504 - val_accuracy: 0.6500\n",
      "Epoch 33/50\n",
      "1103/1103 [==============================] - 4s 3ms/step - loss: 3.1438 - accuracy: 0.6565 - val_loss: 3.1510 - val_accuracy: 0.6495\n",
      "Epoch 34/50\n",
      "1103/1103 [==============================] - 4s 3ms/step - loss: 3.1415 - accuracy: 0.6588 - val_loss: 3.1612 - val_accuracy: 0.6398\n",
      "Epoch 35/50\n",
      "1103/1103 [==============================] - 4s 4ms/step - loss: 3.1484 - accuracy: 0.6520 - val_loss: 3.1533 - val_accuracy: 0.6472\n",
      "Epoch 36/50\n",
      "1103/1103 [==============================] - 4s 3ms/step - loss: 3.1453 - accuracy: 0.6549 - val_loss: 3.1580 - val_accuracy: 0.6421\n",
      "Epoch 37/50\n",
      "1103/1103 [==============================] - 4s 3ms/step - loss: 3.1457 - accuracy: 0.6545 - val_loss: 3.1533 - val_accuracy: 0.6472\n",
      "Epoch 38/50\n",
      "1103/1103 [==============================] - 4s 3ms/step - loss: 3.1428 - accuracy: 0.6575 - val_loss: 3.1471 - val_accuracy: 0.6533\n",
      "Epoch 39/50\n",
      "1103/1103 [==============================] - 4s 3ms/step - loss: 3.1403 - accuracy: 0.6600 - val_loss: 3.1511 - val_accuracy: 0.6490\n",
      "Epoch 40/50\n",
      "1103/1103 [==============================] - 4s 4ms/step - loss: 3.1460 - accuracy: 0.6545 - val_loss: 3.1589 - val_accuracy: 0.6416\n",
      "Epoch 41/50\n",
      "1103/1103 [==============================] - 4s 4ms/step - loss: 3.1507 - accuracy: 0.6498 - val_loss: 3.1479 - val_accuracy: 0.6526\n",
      "Epoch 42/50\n",
      "1103/1103 [==============================] - 4s 4ms/step - loss: 3.1412 - accuracy: 0.6592 - val_loss: 3.1518 - val_accuracy: 0.6485\n",
      "Epoch 43/50\n",
      "1103/1103 [==============================] - 4s 4ms/step - loss: 3.1488 - accuracy: 0.6516 - val_loss: 3.1455 - val_accuracy: 0.6546\n",
      "Epoch 44/50\n",
      "1103/1103 [==============================] - 4s 4ms/step - loss: 3.1411 - accuracy: 0.6593 - val_loss: 3.1410 - val_accuracy: 0.6594\n",
      "Epoch 45/50\n",
      "1103/1103 [==============================] - 4s 4ms/step - loss: 3.1465 - accuracy: 0.6539 - val_loss: 3.1500 - val_accuracy: 0.6503\n",
      "Epoch 46/50\n",
      "1103/1103 [==============================] - 4s 3ms/step - loss: 3.1432 - accuracy: 0.6572 - val_loss: 3.1656 - val_accuracy: 0.6349\n",
      "Epoch 47/50\n",
      "1103/1103 [==============================] - 4s 3ms/step - loss: 3.1533 - accuracy: 0.6471 - val_loss: 3.1598 - val_accuracy: 0.6406\n",
      "Epoch 48/50\n",
      "1103/1103 [==============================] - 4s 3ms/step - loss: 3.1418 - accuracy: 0.6585 - val_loss: 3.1503 - val_accuracy: 0.6500\n",
      "Epoch 49/50\n",
      "1103/1103 [==============================] - 4s 4ms/step - loss: 3.1540 - accuracy: 0.6462 - val_loss: 3.1631 - val_accuracy: 0.6370\n",
      "Epoch 50/50\n",
      "1103/1103 [==============================] - 4s 3ms/step - loss: 3.1432 - accuracy: 0.6571 - val_loss: 3.1498 - val_accuracy: 0.6505\n"
     ]
    }
   ],
   "source": [
    "epochs=50\n",
    "history = model.fit(\n",
    "  train_ds,\n",
    "  validation_data=val_ds,\n",
    "  epochs=epochs\n",
    ")"
   ]
  },
  {
   "cell_type": "markdown",
   "metadata": {},
   "source": [
    "## Model validation\n"
   ]
  },
  {
   "cell_type": "code",
   "execution_count": 17,
   "metadata": {},
   "outputs": [
    {
     "data": {
      "image/png": "[encoded data removed]",
      "text/plain": [
       "<Figure size 576x576 with 2 Axes>"
      ]
     },
     "metadata": {
      "needs_background": "light"
     },
     "output_type": "display_data"
    }
   ],
   "source": [
    "acc = history.history['accuracy']\n",
    "val_acc = history.history['val_accuracy']\n",
    "\n",
    "loss = history.history['loss']\n",
    "val_loss = history.history['val_loss']\n",
    "\n",
    "epochs_range = range(epochs)\n",
    "\n",
    "plt.figure(figsize=(8, 8))\n",
    "plt.subplot(1, 2, 1)\n",
    "plt.plot(epochs_range, acc, label='Training Accuracy')\n",
    "plt.plot(epochs_range, val_acc, label='Validation Accuracy')\n",
    "plt.legend(loc='lower right')\n",
    "plt.title('Training and Validation Accuracy')\n",
    "\n",
    "plt.subplot(1, 2, 2)\n",
    "plt.plot(epochs_range, loss, label='Training Loss')\n",
    "plt.plot(epochs_range, val_loss, label='Validation Loss')\n",
    "plt.legend(loc='upper right')\n",
    "plt.title('Training and Validation Loss')\n",
    "plt.show()"
   ]
  },
  {
   "cell_type": "code",
   "execution_count": 23,
   "metadata": {},
   "outputs": [
    {
     "name": "stdout",
     "output_type": "stream",
     "text": [
      "This image most likely belongs to Go straight or left with a 99.93 percent confidence.\n"
     ]
    }
   ],
   "source": [
    "img = keras.preprocessing.image.load_img(\n",
    "    df_train.iloc[-1,-1], target_size=(img_height, img_width)\n",
    ")\n",
    "img_array = keras.preprocessing.image.img_to_array(img)\n",
    "img_array = tf.expand_dims(img_array, 0) # Create a batch\n",
    "\n",
    "predictions = model.predict(img_array)\n",
    "score = tf.nn.softmax(predictions[0])\n",
    "\n",
    "print(\n",
    "    \"This image most likely belongs to {} with a {:.2f} percent confidence.\"\n",
    "    .format(df_label.iloc[np.argmax(score)].SignName, 100 * np.max(score))\n",
    ")"
   ]
  },
  {
   "cell_type": "code",
   "execution_count": 25,
   "metadata": {},
   "outputs": [
    {
     "data": {
      "text/html": [
       "<div>\n",
       "<style scoped>\n",
       "    .dataframe tbody tr th:only-of-type {\n",
       "        vertical-align: middle;\n",
       "    }\n",
       "\n",
       "    .dataframe tbody tr th {\n",
       "        vertical-align: top;\n",
       "    }\n",
       "\n",
       "    .dataframe thead th {\n",
       "        text-align: right;\n",
       "    }\n",
       "</style>\n",
       "<table border=\"1\" class=\"dataframe\">\n",
       "  <thead>\n",
       "    <tr style=\"text-align: right;\">\n",
       "      <th></th>\n",
       "      <th>Width</th>\n",
       "      <th>Height</th>\n",
       "      <th>Roi.X1</th>\n",
       "      <th>Roi.Y1</th>\n",
       "      <th>Roi.X2</th>\n",
       "      <th>Roi.Y2</th>\n",
       "      <th>ClassId</th>\n",
       "      <th>Path</th>\n",
       "    </tr>\n",
       "  </thead>\n",
       "  <tbody>\n",
       "    <tr>\n",
       "      <td>0</td>\n",
       "      <td>53</td>\n",
       "      <td>54</td>\n",
       "      <td>6</td>\n",
       "      <td>5</td>\n",
       "      <td>48</td>\n",
       "      <td>49</td>\n",
       "      <td>16</td>\n",
       "      <td>Test/00000.png</td>\n",
       "    </tr>\n",
       "    <tr>\n",
       "      <td>1</td>\n",
       "      <td>42</td>\n",
       "      <td>45</td>\n",
       "      <td>5</td>\n",
       "      <td>5</td>\n",
       "      <td>36</td>\n",
       "      <td>40</td>\n",
       "      <td>1</td>\n",
       "      <td>Test/00001.png</td>\n",
       "    </tr>\n",
       "    <tr>\n",
       "      <td>2</td>\n",
       "      <td>48</td>\n",
       "      <td>52</td>\n",
       "      <td>6</td>\n",
       "      <td>6</td>\n",
       "      <td>43</td>\n",
       "      <td>47</td>\n",
       "      <td>38</td>\n",
       "      <td>Test/00002.png</td>\n",
       "    </tr>\n",
       "    <tr>\n",
       "      <td>3</td>\n",
       "      <td>27</td>\n",
       "      <td>29</td>\n",
       "      <td>5</td>\n",
       "      <td>5</td>\n",
       "      <td>22</td>\n",
       "      <td>24</td>\n",
       "      <td>33</td>\n",
       "      <td>Test/00003.png</td>\n",
       "    </tr>\n",
       "    <tr>\n",
       "      <td>4</td>\n",
       "      <td>60</td>\n",
       "      <td>57</td>\n",
       "      <td>5</td>\n",
       "      <td>5</td>\n",
       "      <td>55</td>\n",
       "      <td>52</td>\n",
       "      <td>11</td>\n",
       "      <td>Test/00004.png</td>\n",
       "    </tr>\n",
       "  </tbody>\n",
       "</table>\n",
       "</div>"
      ],
      "text/plain": [
       "  Width Height Roi.X1 Roi.Y1 Roi.X2 Roi.Y2 ClassId            Path\n",
       "0    53     54      6      5     48     49      16  Test/00000.png\n",
       "1    42     45      5      5     36     40       1  Test/00001.png\n",
       "2    48     52      6      6     43     47      38  Test/00002.png\n",
       "3    27     29      5      5     22     24      33  Test/00003.png\n",
       "4    60     57      5      5     55     52      11  Test/00004.png"
      ]
     },
     "execution_count": 25,
     "metadata": {},
     "output_type": "execute_result"
    }
   ],
   "source": [
    "test_csv_path = 'Test.csv'\n",
    "df_test = pd.read_csv(test_csv_path,dtype='str')\n",
    "df_test.head()"
   ]
  },
  {
   "cell_type": "code",
   "execution_count": 29,
   "metadata": {},
   "outputs": [
    {
     "name": "stdout",
     "output_type": "stream",
     "text": [
      "Found 12630 validated image filenames belonging to 43 classes.\n"
     ]
    }
   ],
   "source": [
    "test_datagen = tf.keras.preprocessing.image.ImageDataGenerator(rescale=1./255)\n",
    "\n",
    "test_generator=test_datagen.flow_from_dataframe(dataframe=df_test,\n",
    "                                            directory='',\n",
    "                                            x_col=df_test.columns[-1],\n",
    "                                            y_col=df_test.columns[-2],\n",
    "                                            class_mode=\"categorical\",\n",
    "                                            shuffle=False,\n",
    "                                            target_size=(img_height,img_width),\n",
    "                                            batch_size=batch_size)"
   ]
  },
  {
   "cell_type": "code",
   "execution_count": 31,
   "metadata": {},
   "outputs": [
    {
     "name": "stdout",
     "output_type": "stream",
     "text": [
      "Test accuracy: 4.799941062927246  Baseline Error: 95.20%\n"
     ]
    }
   ],
   "source": [
    "test_acc_metric = tf.keras.metrics.Accuracy(name=\"accuracy\", dtype=None)\n",
    "for _ in range(len(test_generator)):\n",
    "    x_batch_val, y_batch_val=next(test_generator)\n",
    "    test_predictions=model(x_batch_val) \n",
    "    test_pred_norm = np.argmax(test_predictions,axis=1)\n",
    "    test_acc_metric(y_batch_val, test_predictions)\n",
    "    \n",
    "test_acc = test_acc_metric.result()\n",
    "test_acc_metric.reset_states()\n",
    "\n",
    "print(\"Test accuracy: \" + str(float(test_acc*100)) + \"  Baseline Error: %.2f%%\" % (100-float(test_acc*100)))"
   ]
  },
  {
   "cell_type": "markdown",
   "metadata": {},
   "source": [
    "### Consideração em relação ao modelo inicial\n",
    "Podemos observar que o modelo não performou tão bem no conjunto de testes tendo apenas 5% de acurácia.\n",
    "Como possibilidade para reajustar podemos introduzir uma normalização entre as batchs atraves de uma layer. Outra modificação que pode contribuir na generalização do modelo seria adicionar uma camada de Dropout para regularizar o ajuste da rede a diferentes configurações."
   ]
  },
  {
   "cell_type": "markdown",
   "metadata": {},
   "source": [
    "## Model Fine-tuning"
   ]
  },
  {
   "cell_type": "code",
   "execution_count": 20,
   "metadata": {},
   "outputs": [
    {
     "name": "stdout",
     "output_type": "stream",
     "text": [
      "Model: \"sequential_3\"\n",
      "_________________________________________________________________\n",
      "Layer (type)                 Output Shape              Param #   \n",
      "=================================================================\n",
      "rescaling_3 (Rescaling)      (None, 25, 25, 3)         0         \n",
      "_________________________________________________________________\n",
      "batch_normalization_1 (Batch (None, 25, 25, 3)         12        \n",
      "_________________________________________________________________\n",
      "conv2d_9 (Conv2D)            (None, 25, 25, 16)        448       \n",
      "_________________________________________________________________\n",
      "max_pooling2d_9 (MaxPooling2 (None, 12, 12, 16)        0         \n",
      "_________________________________________________________________\n",
      "conv2d_10 (Conv2D)           (None, 12, 12, 32)        4640      \n",
      "_________________________________________________________________\n",
      "max_pooling2d_10 (MaxPooling (None, 6, 6, 32)          0         \n",
      "_________________________________________________________________\n",
      "conv2d_11 (Conv2D)           (None, 6, 6, 64)          18496     \n",
      "_________________________________________________________________\n",
      "max_pooling2d_11 (MaxPooling (None, 3, 3, 64)          0         \n",
      "_________________________________________________________________\n",
      "flatten_3 (Flatten)          (None, 576)               0         \n",
      "_________________________________________________________________\n",
      "dense_9 (Dense)              (None, 128)               73856     \n",
      "_________________________________________________________________\n",
      "dropout_1 (Dropout)          (None, 128)               0         \n",
      "_________________________________________________________________\n",
      "dense_10 (Dense)             (None, 64)                8256      \n",
      "_________________________________________________________________\n",
      "dense_11 (Dense)             (None, 43)                2795      \n",
      "=================================================================\n",
      "Total params: 108,503\n",
      "Trainable params: 108,497\n",
      "Non-trainable params: 6\n",
      "_________________________________________________________________\n"
     ]
    }
   ],
   "source": [
    "model_2 = Sequential([\n",
    "    layers.experimental.preprocessing.Rescaling(1./255, input_shape=(img_height, img_width, 3)),\n",
    "    layers.BatchNormalization(),\n",
    "    layers.Conv2D(16, 3, padding='same', activation='relu'),\n",
    "    layers.MaxPooling2D(),\n",
    "    layers.Conv2D(32, 3, padding='same', activation='relu'),\n",
    "    layers.MaxPooling2D(),\n",
    "    layers.Conv2D(64, 3, padding='same', activation='relu'),\n",
    "    layers.MaxPooling2D(),\n",
    "    layers.Flatten(),\n",
    "    layers.Dense(128, activation='relu'),\n",
    "    layers.Dropout(0.5),\n",
    "    layers.Dense(64, activation='relu'),\n",
    "    layers.Dense(num_classes, activation = 'softmax')\n",
    "])\n",
    "model_2.compile(optimizer='adam',\n",
    "              loss=tf.keras.losses.CategoricalCrossentropy(from_logits=True),\n",
    "              metrics=['accuracy'])\n",
    "model_2.summary()"
   ]
  },
  {
   "cell_type": "code",
   "execution_count": 21,
   "metadata": {},
   "outputs": [
    {
     "name": "stdout",
     "output_type": "stream",
     "text": [
      "Epoch 1/50\n",
      "1103/1103 [==============================] - 5s 4ms/step - loss: 3.6935 - accuracy: 0.1056 - val_loss: 3.6220 - val_accuracy: 0.1806\n",
      "Epoch 2/50\n",
      "1103/1103 [==============================] - 5s 5ms/step - loss: 3.5280 - accuracy: 0.2736 - val_loss: 3.4382 - val_accuracy: 0.3630\n",
      "Epoch 3/50\n",
      "1103/1103 [==============================] - 6s 6ms/step - loss: 3.4370 - accuracy: 0.3647 - val_loss: 3.4079 - val_accuracy: 0.3923\n",
      "Epoch 4/50\n",
      "1103/1103 [==============================] - 4s 4ms/step - loss: 3.3920 - accuracy: 0.4104 - val_loss: 3.3385 - val_accuracy: 0.4630\n",
      "Epoch 5/50\n",
      "1103/1103 [==============================] - 4s 4ms/step - loss: 3.3380 - accuracy: 0.4637 - val_loss: 3.3247 - val_accuracy: 0.4755\n",
      "Epoch 6/50\n",
      "1103/1103 [==============================] - 4s 4ms/step - loss: 3.3220 - accuracy: 0.4788 - val_loss: 3.3118 - val_accuracy: 0.4880\n",
      "Epoch 7/50\n",
      "1103/1103 [==============================] - 6s 5ms/step - loss: 3.3114 - accuracy: 0.4897 - val_loss: 3.3026 - val_accuracy: 0.4974\n",
      "Epoch 8/50\n",
      "1103/1103 [==============================] - 5s 4ms/step - loss: 3.2960 - accuracy: 0.5049 - val_loss: 3.2817 - val_accuracy: 0.5189\n",
      "Epoch 9/50\n",
      "1103/1103 [==============================] - 4s 4ms/step - loss: 3.2899 - accuracy: 0.5109 - val_loss: 3.2789 - val_accuracy: 0.5209\n",
      "Epoch 10/50\n",
      "1103/1103 [==============================] - 4s 4ms/step - loss: 3.2854 - accuracy: 0.5151 - val_loss: 3.2843 - val_accuracy: 0.5161\n",
      "Epoch 11/50\n",
      "1103/1103 [==============================] - 4s 4ms/step - loss: 3.2746 - accuracy: 0.5262 - val_loss: 3.2443 - val_accuracy: 0.5561\n",
      "Epoch 12/50\n",
      "1103/1103 [==============================] - 4s 4ms/step - loss: 3.2533 - accuracy: 0.5474 - val_loss: 3.2418 - val_accuracy: 0.5584\n",
      "Epoch 13/50\n",
      "1103/1103 [==============================] - 4s 4ms/step - loss: 3.2491 - accuracy: 0.5515 - val_loss: 3.2427 - val_accuracy: 0.5579\n",
      "Epoch 14/50\n",
      "1103/1103 [==============================] - 4s 4ms/step - loss: 3.2492 - accuracy: 0.5509 - val_loss: 3.2364 - val_accuracy: 0.5638\n",
      "Epoch 15/50\n",
      "1103/1103 [==============================] - 4s 4ms/step - loss: 3.2491 - accuracy: 0.5512 - val_loss: 3.2420 - val_accuracy: 0.5584\n",
      "Epoch 16/50\n",
      "1103/1103 [==============================] - 4s 4ms/step - loss: 3.2497 - accuracy: 0.5506 - val_loss: 3.2384 - val_accuracy: 0.5620\n",
      "Epoch 17/50\n",
      "1103/1103 [==============================] - 5s 4ms/step - loss: 3.2529 - accuracy: 0.5475 - val_loss: 3.2396 - val_accuracy: 0.5607\n",
      "Epoch 18/50\n",
      "1103/1103 [==============================] - 5s 4ms/step - loss: 3.2498 - accuracy: 0.5507 - val_loss: 3.2417 - val_accuracy: 0.5587\n",
      "Epoch 19/50\n",
      "1103/1103 [==============================] - 5s 4ms/step - loss: 3.2489 - accuracy: 0.5514 - val_loss: 3.2400 - val_accuracy: 0.5605\n",
      "Epoch 20/50\n",
      "1103/1103 [==============================] - 5s 4ms/step - loss: 3.2529 - accuracy: 0.5475 - val_loss: 3.2471 - val_accuracy: 0.5528\n",
      "Epoch 21/50\n",
      "1103/1103 [==============================] - 6s 5ms/step - loss: 3.2507 - accuracy: 0.5496 - val_loss: 3.2397 - val_accuracy: 0.5605\n",
      "Epoch 22/50\n",
      "1103/1103 [==============================] - 6s 5ms/step - loss: 3.2463 - accuracy: 0.5539 - val_loss: 3.2377 - val_accuracy: 0.5625\n",
      "Epoch 23/50\n",
      "1103/1103 [==============================] - 5s 5ms/step - loss: 3.2468 - accuracy: 0.5534 - val_loss: 3.2426 - val_accuracy: 0.5577\n",
      "Epoch 24/50\n",
      "1103/1103 [==============================] - 5s 4ms/step - loss: 3.2447 - accuracy: 0.5557 - val_loss: 3.2354 - val_accuracy: 0.5648\n",
      "Epoch 25/50\n",
      "1103/1103 [==============================] - 5s 4ms/step - loss: 3.2444 - accuracy: 0.5560 - val_loss: 3.2359 - val_accuracy: 0.5645\n",
      "Epoch 26/50\n",
      "1103/1103 [==============================] - 5s 4ms/step - loss: 3.2434 - accuracy: 0.5569 - val_loss: 3.2348 - val_accuracy: 0.5653\n",
      "Epoch 27/50\n",
      "1103/1103 [==============================] - 5s 4ms/step - loss: 3.2457 - accuracy: 0.5545 - val_loss: 3.2343 - val_accuracy: 0.5661\n",
      "Epoch 28/50\n",
      "1103/1103 [==============================] - 5s 4ms/step - loss: 3.2389 - accuracy: 0.5613 - val_loss: 3.2277 - val_accuracy: 0.5727\n",
      "Epoch 29/50\n",
      "1103/1103 [==============================] - 5s 4ms/step - loss: 3.2454 - accuracy: 0.5549 - val_loss: 3.2500 - val_accuracy: 0.5505\n",
      "Epoch 30/50\n",
      "1103/1103 [==============================] - 5s 4ms/step - loss: 3.2445 - accuracy: 0.5559 - val_loss: 3.2308 - val_accuracy: 0.5696\n",
      "Epoch 31/50\n",
      "1103/1103 [==============================] - 5s 4ms/step - loss: 3.2315 - accuracy: 0.5688 - val_loss: 3.2336 - val_accuracy: 0.5666\n",
      "Epoch 32/50\n",
      "1103/1103 [==============================] - 5s 4ms/step - loss: 3.2404 - accuracy: 0.5599 - val_loss: 3.2473 - val_accuracy: 0.5531\n",
      "Epoch 33/50\n",
      "1103/1103 [==============================] - 5s 4ms/step - loss: 3.2369 - accuracy: 0.5634 - val_loss: 3.2287 - val_accuracy: 0.5717\n",
      "Epoch 34/50\n",
      "1103/1103 [==============================] - 5s 4ms/step - loss: 3.2329 - accuracy: 0.5673 - val_loss: 3.2522 - val_accuracy: 0.5480\n",
      "Epoch 35/50\n",
      "1103/1103 [==============================] - 5s 4ms/step - loss: 3.2378 - accuracy: 0.5626 - val_loss: 3.2312 - val_accuracy: 0.5691\n",
      "Epoch 36/50\n",
      "1103/1103 [==============================] - 5s 4ms/step - loss: 3.2320 - accuracy: 0.5684 - val_loss: 3.2256 - val_accuracy: 0.5747\n",
      "Epoch 37/50\n",
      "1103/1103 [==============================] - 5s 4ms/step - loss: 3.2335 - accuracy: 0.5668 - val_loss: 3.2219 - val_accuracy: 0.5783\n",
      "Epoch 38/50\n",
      "1103/1103 [==============================] - 5s 4ms/step - loss: 3.2384 - accuracy: 0.5619 - val_loss: 3.2428 - val_accuracy: 0.5577\n",
      "Epoch 39/50\n",
      "1103/1103 [==============================] - 5s 4ms/step - loss: 3.2378 - accuracy: 0.5626 - val_loss: 3.2289 - val_accuracy: 0.5712\n",
      "Epoch 40/50\n",
      "1103/1103 [==============================] - 5s 4ms/step - loss: 3.2451 - accuracy: 0.5554 - val_loss: 3.2288 - val_accuracy: 0.5714\n",
      "Epoch 41/50\n",
      "1103/1103 [==============================] - 5s 4ms/step - loss: 3.2418 - accuracy: 0.5585 - val_loss: 3.2311 - val_accuracy: 0.5694\n",
      "Epoch 42/50\n",
      "1103/1103 [==============================] - 5s 4ms/step - loss: 3.2393 - accuracy: 0.5611 - val_loss: 3.2260 - val_accuracy: 0.5745\n",
      "Epoch 43/50\n",
      "1103/1103 [==============================] - 5s 4ms/step - loss: 3.2309 - accuracy: 0.5694 - val_loss: 3.2249 - val_accuracy: 0.5755\n",
      "Epoch 44/50\n",
      "1103/1103 [==============================] - 5s 4ms/step - loss: 3.2338 - accuracy: 0.5665 - val_loss: 3.2246 - val_accuracy: 0.5758\n",
      "Epoch 45/50\n",
      "1103/1103 [==============================] - 5s 4ms/step - loss: 3.2411 - accuracy: 0.5593 - val_loss: 3.2299 - val_accuracy: 0.5702\n",
      "Epoch 46/50\n",
      "1103/1103 [==============================] - 5s 4ms/step - loss: 3.2414 - accuracy: 0.5590 - val_loss: 3.2251 - val_accuracy: 0.5753\n",
      "Epoch 47/50\n",
      "1103/1103 [==============================] - 5s 4ms/step - loss: 3.2361 - accuracy: 0.5642 - val_loss: 3.2291 - val_accuracy: 0.5712\n",
      "Epoch 48/50\n",
      "1103/1103 [==============================] - 5s 4ms/step - loss: 3.2388 - accuracy: 0.5616 - val_loss: 3.2318 - val_accuracy: 0.5686\n",
      "Epoch 49/50\n",
      "1103/1103 [==============================] - 5s 4ms/step - loss: 3.2418 - accuracy: 0.5585 - val_loss: 3.2311 - val_accuracy: 0.5691\n",
      "Epoch 50/50\n",
      "1103/1103 [==============================] - 5s 4ms/step - loss: 3.2411 - accuracy: 0.5592 - val_loss: 3.2309 - val_accuracy: 0.5694\n"
     ]
    }
   ],
   "source": [
    "epochs=50\n",
    "history_2 = model_2.fit(\n",
    "  train_ds,\n",
    "  validation_data=val_ds,\n",
    "  epochs=epochs\n",
    ")"
   ]
  },
  {
   "cell_type": "code",
   "execution_count": 22,
   "metadata": {},
   "outputs": [
    {
     "data": {
      "image/png": "[encoded data removed]",
      "text/plain": [
       "<Figure size 576x576 with 2 Axes>"
      ]
     },
     "metadata": {
      "needs_background": "light"
     },
     "output_type": "display_data"
    }
   ],
   "source": [
    "acc = history_2.history['accuracy']\n",
    "val_acc = history_2.history['val_accuracy']\n",
    "\n",
    "loss = history_2.history['loss']\n",
    "val_loss = history_2.history['val_loss']\n",
    "\n",
    "epochs_range = range(epochs)\n",
    "\n",
    "plt.figure(figsize=(8, 8))\n",
    "plt.subplot(1, 2, 1)\n",
    "plt.plot(epochs_range, acc, label='Training Accuracy')\n",
    "plt.plot(epochs_range, val_acc, label='Validation Accuracy')\n",
    "plt.legend(loc='lower right')\n",
    "plt.title('Training and Validation Accuracy')\n",
    "\n",
    "plt.subplot(1, 2, 2)\n",
    "plt.plot(epochs_range, loss, label='Training Loss')\n",
    "plt.plot(epochs_range, val_loss, label='Validation Loss')\n",
    "plt.legend(loc='upper right')\n",
    "plt.title('Training and Validation Loss')\n",
    "plt.show()"
   ]
  },
  {
   "cell_type": "code",
   "execution_count": 36,
   "metadata": {},
   "outputs": [
    {
     "name": "stdout",
     "output_type": "stream",
     "text": [
      "Test accuracy: 86.703857421875  Baseline Error: 13.30%\n"
     ]
    }
   ],
   "source": [
    "test_acc_metric = tf.keras.metrics.Accuracy(name=\"accuracy\", dtype=None)\n",
    "for _ in range(len(test_generator)):\n",
    "    x_batch_val, y_batch_val=next(test_generator)\n",
    "    test_predictions=model_2(x_batch_val) \n",
    "    test_acc_metric(y_batch_val, test_predictions)\n",
    "    \n",
    "test_acc = test_acc_metric.result()\n",
    "test_acc_metric.reset_states()\n",
    "\n",
    "print(\"Test accuracy: \" + str(float(test_acc*100)) + \"  Baseline Error: %.2f%%\" % (100-float(test_acc*100)))"
   ]
  },
  {
   "cell_type": "code",
   "execution_count": 35,
   "metadata": {},
   "outputs": [],
   "source": [
    "model_2.save('modelofinal.h5')"
   ]
  },
  {
   "cell_type": "markdown",
   "metadata": {},
   "source": [
    "### Consideração em relação ao fine-tuning.\n",
    "Tivemos uma expressiva melhora na performance do conjunto de teste com a solução proposta. alem de uma suavização da curva de treinamento.\n",
    "\n",
    "Possiveis melhorias que não houve tempo para realização neste desafio técnico:\n",
    "\n",
    "- Pre-processamento do conjunto de dados de maneira a uniformizar condições de iluminação.\n",
    "- Trabalho de aumento de dados no processo de treinamento de maneira a melhor representar conjuntos com menor conjunto de imagens\n",
    "- Tunning e teste de diferentes arquiteturas(Vgg,inception,dentre outros)."
   ]
  },
  {
   "cell_type": "markdown",
   "metadata": {},
   "source": [
    "### Deploy (only theoretical)\n",
    "Para o deploy poderia se montar uma API com auxilio da biblioteca Sanic que agrega funções assíncronas garantindo uma boa performance na inferencia de novos dados.\n",
    "\n",
    "### Feedback of new validated data (only theoretical)\n",
    "Com acumulo de novos dados validados. Seria possivel utilizar uma plataforma da tensorflow(TensorFlow Serving) para realizar o treinamento de distribuição de modelos em fase de produção. Dessa maneira a rede neural seria re-calibrada com novos dados de tempos em tempos. "
   ]
  },
  {
   "cell_type": "code",
   "execution_count": null,
   "metadata": {},
   "outputs": [],
   "source": []
  }
 ],
 "metadata": {
  "kernelspec": {
   "display_name": "Python 3",
   "language": "python",
   "name": "python3"
  },
  "language_info": {
   "codemirror_mode": {
    "name": "ipython",
    "version": 3
   },
   "file_extension": ".py",
   "mimetype": "text/x-python",
   "name": "python",
   "nbconvert_exporter": "python",
   "pygments_lexer": "ipython3",
   "version": "3.6.9"
  }
 },
 "nbformat": 4,
 "nbformat_minor": 2
}
